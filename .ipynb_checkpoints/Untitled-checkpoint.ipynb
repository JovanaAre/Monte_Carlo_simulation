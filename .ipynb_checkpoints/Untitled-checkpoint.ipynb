{
 "cells": [
  {
   "cell_type": "code",
   "execution_count": null,
   "metadata": {},
   "outputs": [],
   "source": [
    "import pandas as pd\n",
    "import numpy as np\n",
    "import matplotlib.pyplot as plt\n",
    "import random"
   ]
  },
  {
   "cell_type": "code",
   "execution_count": null,
   "metadata": {},
   "outputs": [],
   "source": [
    "x = int(input(\"Enter x: \"))"
   ]
  },
  {
   "cell_type": "code",
   "execution_count": null,
   "metadata": {},
   "outputs": [],
   "source": [
    "figure, axes = plt.subplots()\n",
    "#plt.scatter(x, y, c='blue')\n",
    "axes.set_aspect(1)\n",
    "axes.add_artist(plt.Circle((0,0),1, color = 'k', fill = False))\n",
    "plt.xlim(left=-1)\n",
    "plt.xlim(right=1)\n",
    "plt.ylim(bottom=-1)\n",
    "plt.ylim(top=1)\n",
    "#pi_estimate= (inside_quadrant/N)*4\n",
    "#utside_quadrant=N-inside_quadrant\n",
    "#plt.title('Pi Estimate= '+str(pi_estimate)+', NoOfIterations='+str(N)+', Count Of Points Inside Circle='+str(inside_quadrant)+', Outside Circle='+str(outside_quadrant))\n",
    "plt.show()"
   ]
  },
  {
   "cell_type": "code",
   "execution_count": null,
   "metadata": {},
   "outputs": [],
   "source": []
  }
 ],
 "metadata": {
  "kernelspec": {
   "display_name": "Python 3",
   "language": "python",
   "name": "python3"
  },
  "language_info": {
   "codemirror_mode": {
    "name": "ipython",
    "version": 3
   },
   "file_extension": ".py",
   "mimetype": "text/x-python",
   "name": "python",
   "nbconvert_exporter": "python",
   "pygments_lexer": "ipython3",
   "version": "3.8.5"
  }
 },
 "nbformat": 4,
 "nbformat_minor": 4
}
