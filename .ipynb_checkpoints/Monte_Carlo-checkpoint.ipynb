{
 "cells": [
  {
   "cell_type": "markdown",
   "metadata": {},
   "source": [
    "# Laboratorijska vježba 4 -  Monte Carlo simulacija"
   ]
  },
  {
   "cell_type": "markdown",
   "metadata": {},
   "source": [
    "Zadatak – Izračunavanje vrijednosti broja Pi\n",
    "\n",
    "Na osnovu opisa postupka Monte Karlo simulacije (str. 34 u skripti), napisati program\n",
    "u proizvoljnom programskom jeziku za izračunavanje broja Pi. Omogućiti da korisnik\n",
    "na početku može da izabere jednu od dvije opcije – broj slučajno generisanih\n",
    "vrijednosti ili broj decimala koje treba da se poklope sa pravom vrijednošću.\n"
   ]
  },
  {
   "cell_type": "code",
   "execution_count": 2,
   "metadata": {},
   "outputs": [],
   "source": [
    "# Potrebne biblioteke\n",
    "import pandas as pd\n",
    "import numpy as np\n",
    "import matplotlib.pyplot as plt\n",
    "import math\n",
    "import random # za generisanje slučajnih vrijednosti\n",
    "from decimal import * # za definisanje preciznosti (broja decimala koje se trebaju poklopiti)"
   ]
  },
  {
   "cell_type": "markdown",
   "metadata": {},
   "source": [
    " Definišimo klasu Monte_Carlo koja sadrži potrebne metode za Monte Carlo simulaciju:"
   ]
  },
  {
   "cell_type": "code",
   "execution_count": 3,
   "metadata": {},
   "outputs": [],
   "source": [
    "class Monte_Carlo:\n",
    "    # Atributi klase\n",
    "    x=[] # niz vrijednosti prve slučajne promjenljive koja prati uniformnu raspodjelu između 0 i 1\n",
    "    y=[] # niz vrijednosti druge slučajne promjenljive koja prati uniformnu raspodjelu između 0 i 1\n",
    "    inside_circle = 0 # broj tačaka unutar kružnice\n",
    "    \n",
    "    # Metode klase\n",
    "    def monte_carlo(self,N):\n",
    "        \"\"\"\n",
    "        monte_carlo metoda racuna i vraca vrijednost broja PI\n",
    "\n",
    "        :param self: objekat klase Monte_Carlo\n",
    "        :param N: broj slucajno generisanih vrijednosti\n",
    "        :return PI: izracunata vrijednost broja PI\n",
    "        \"\"\" \n",
    "        for i in range(0,N):\n",
    "            x_i=random.uniform(0.0, 1.00000) # uniformna raspodjela između 0 i 1\n",
    "            y_i=random.uniform(0.0, 1.00000) # uniformna raspodjela između 0 i 1\n",
    "            self.x.append(x_i)\n",
    "            self.y.append(y_i)\n",
    "            if (x_i**2+y_i**2)<=1: # provjera da li je tačka (x_i,y_i) unutar jedinične kružnice\n",
    "                self.inside_circle+=1\n",
    "        PI = (self.inside_circle/N)*4 # formula za izračunavanje vrijednosti PI\n",
    "        return PI\n",
    "        \n",
    "    def get_PI_generated_values(self):\n",
    "        \"\"\"\n",
    "        get_PI_generated_values omogucava unos broja\n",
    "        slucajno generisanih vrijednosti od strane korisnika,\n",
    "        poziva monte_carlo metodu za izracunavanje vrijednosti broja PI\n",
    "        i iscrtava raspored slucajno generisanih vrijednosti\n",
    "\n",
    "        :param self: objekat klase Monte_Carlo\n",
    "        \"\"\" \n",
    "        # Unos broja slučajno generisanih vrijednosti od strane korisnika\n",
    "        num_of_generated_values = int(input(\"UNESITE BROJ SLUČAJNO GENERISANIH VRIJEDNOSTI, A ZATIM PRITISNITE ENTER: \\n\"))\n",
    "        # Poziv monte_carlo metode\n",
    "        PI = self.monte_carlo(num_of_generated_values)\n",
    "        # Iscrtavanje jedinične kružnice i slučajno generisanih vrijednosti\n",
    "        figure, axes = plt.subplots()\n",
    "        x_fill = np.arange(0.0, 1, 0.01)\n",
    "        axes.fill_between(x_fill, y1=0, y2=1) # sijenčenje kvadrata površine 1 (četvrtina kružnice)\n",
    "        plt.scatter(self.x, self.y, c='red') # skiciranje slučajno generisanih vrijednosti\n",
    "        axes.set_aspect(1)\n",
    "        axes.add_artist(plt.Circle((0,0),1, color = 'k', fill = False)) # jedinična kružnica \n",
    "        plt.title(\"Raspored generisanih vrijednosti\")\n",
    "        plt.xlim(left=-1)\n",
    "        plt.xlim(right=1)\n",
    "        plt.ylim(bottom=-1)\n",
    "        plt.ylim(top=1)\n",
    "        print(\"=====================================================================================\")\n",
    "        print(\"      REZULTAT MONTE CARLO SIMULACIJE - ZA BROJ SLUČAJNO GENERISANIH VRIJEDNOSTI     \")\n",
    "        print(\"=====================================================================================\")\n",
    "        print('Broj slučajno generisanih vrijednosti = '+str(num_of_generated_values))\n",
    "        print('Broj tačaka unutar kružnice = '+str(self.inside_circle))\n",
    "        print('Broj tačaka izvan kružnice = '+str(num_of_generated_values - self.inside_circle))\n",
    "        print('PI = '+str(PI))\n",
    "        plt.show()\n",
    "        \n",
    "    def get_PI_decimal_values(self):\n",
    "        \"\"\"\n",
    "        get_PI_decimal_values omogucava unos broja decimala od strane korisnika\n",
    "        i taj broj se postavlja kao potrebna preciznost,\n",
    "        zatim se u while petlji poziva metoda monte_carlo dok izračunata i stvarna \n",
    "        vrijednost broja PI ne ne budu imale unijeti broj preklopljenih decimala\n",
    "\n",
    "        :param self: objekat klase Monte_Carlo\n",
    "        \"\"\" \n",
    "        # Unos broja decimala koje treba da se poklope sa stvarnom vrijednošću\n",
    "        num_of_decimal_values = int(input(\"UNESITE BROJ DECIMALNIH VRIJEDNOSTI, A ZATIM PRITISNITE ENTER: \\n\"))\n",
    "        num_exp = 10**num_of_decimal_values\n",
    "        #num_of_generated = num_exp**2\n",
    "        accuracy = 1 / num_exp # dozvoljena greška\n",
    "        while True:\n",
    "            PI = self.monte_carlo(10000*num_exp)\n",
    "            getcontext().prec = num_of_decimal_values\n",
    "            diff = abs(Decimal(math.pi)-Decimal(PI))\n",
    "            diff_str = str(diff)\n",
    "            if (diff <= accuracy and diff_str[num_of_decimal_values+1] == '0'):\n",
    "                print(\"=====================================================================================\")\n",
    "                print(\"          REZULTAT MONTE CARLO SIMULACIJE - ZA BROJ DECIMALNIH VRIJEDNOSTI           \")\n",
    "                print(\"=====================================================================================\")\n",
    "                print('Izračunata vrijednost broja PI = '+str(PI))\n",
    "                print('Stvarna vrijednost broja PI = '+str(math.pi))\n",
    "                break\n",
    "            else:\n",
    "                continue"
   ]
  },
  {
   "cell_type": "markdown",
   "metadata": {},
   "source": [
    " ### MONTE CARLO SIMULACIJA - ZA BROJ SLUČAJNO GENERISANIH VRIJEDNOSTI"
   ]
  },
  {
   "cell_type": "markdown",
   "metadata": {},
   "source": [
    "Sljedećim odlomkom koda korisniku se nudi *meni* unosa - ukoliko korisnik sa tastature unese **A** pozvaće se metoda *get_PI_generated_values()* nad objektom klase *Monte_Carlo*, a ukoliko unese **B** pozvaće se *get_PI_decimal_values()* nad objektom klase *Monte_Carlo*."
   ]
  },
  {
   "cell_type": "markdown",
   "metadata": {},
   "source": [
    "U prvom primjeru izabraćemo opciju **A**, a zatim unijeti **100** kao broj slučajno generisanih vrijednosti."
   ]
  },
  {
   "cell_type": "code",
   "execution_count": 3,
   "metadata": {},
   "outputs": [
    {
     "name": "stdout",
     "output_type": "stream",
     "text": [
      "UNESITE A [BROJ SLUČAJNO GENERISANIH VRIJEDNOSTI] ILI B [BROJ DECIMALA]. ZATIM PRITISNITE ENTER: \n",
      "A\n",
      "UNESITE BROJ SLUČAJNO GENERISANIH VRIJEDNOSTI, A ZATIM PRITISNITE ENTER: \n",
      "100\n",
      "=====================================================================================\n",
      "      REZULTAT MONTE CARLO SIMULACIJE - ZA BROJ SLUČAJNO GENERISANIH VRIJEDNOSTI     \n",
      "=====================================================================================\n",
      "Broj slučajno generisanih vrijednosti = 100\n",
      "Broj tačaka unutar kružnice = 79\n",
      "Broj tačaka izvan kružnice = 21\n",
      "PI = 3.16\n"
     ]
    },
    {
     "data": {
      "image/png": "[encoded data removed]",
      "text/plain": [
       "<Figure size 432x288 with 1 Axes>"
      ]
     },
     "metadata": {
      "needs_background": "light"
     },
     "output_type": "display_data"
    }
   ],
   "source": [
    "monte_carlo1 = Monte_Carlo() # instanciranje objekta 1 klase Monte Carlo\n",
    "monte_carlo2 = Monte_Carlo() # instanciranje objekta 2 klase Monte Carlo\n",
    "choice = input(\"UNESITE A [BROJ SLUČAJNO GENERISANIH VRIJEDNOSTI] ILI B [BROJ DECIMALA]. ZATIM PRITISNITE ENTER: \\n\")\n",
    "if choice == 'A':\n",
    "    monte_carlo1.get_PI_generated_values()\n",
    "elif choice == 'B':\n",
    "    monte_carlo2.get_PI_decimal_values()\n",
    "else:\n",
    "    print(\"Neispravan unos!\")"
   ]
  },
  {
   "cell_type": "markdown",
   "metadata": {},
   "source": [
    "U drugom primjeru ponovo ćemo izabrati opciju **A**, a zatim unijeti **100000** kao broj slučajno generisanih vrijednosti."
   ]
  },
  {
   "cell_type": "code",
   "execution_count": 4,
   "metadata": {},
   "outputs": [
    {
     "name": "stdout",
     "output_type": "stream",
     "text": [
      "UNESITE A [BROJ SLUČAJNO GENERISANIH VRIJEDNOSTI] ILI B [BROJ DECIMALA]. ZATIM PRITISNITE ENTER: \n",
      "A\n",
      "UNESITE BROJ SLUČAJNO GENERISANIH VRIJEDNOSTI, A ZATIM PRITISNITE ENTER: \n",
      "100000\n",
      "=====================================================================================\n",
      "      REZULTAT MONTE CARLO SIMULACIJE - ZA BROJ SLUČAJNO GENERISANIH VRIJEDNOSTI     \n",
      "=====================================================================================\n",
      "Broj slučajno generisanih vrijednosti = 100000\n",
      "Broj tačaka unutar kružnice = 78520\n",
      "Broj tačaka izvan kružnice = 21480\n",
      "PI = 3.1408\n"
     ]
    },
    {
     "data": {
      "image/png": "[encoded data removed]",
      "text/plain": [
       "<Figure size 432x288 with 1 Axes>"
      ]
     },
     "metadata": {
      "needs_background": "light"
     },
     "output_type": "display_data"
    }
   ],
   "source": [
    "monte_carlo1 = Monte_Carlo() # instanciranje objekta 1 klase Monte Carlo\n",
    "monte_carlo2 = Monte_Carlo() # instanciranje objekta 2 klase Monte Carlo\n",
    "choice = input(\"UNESITE A [BROJ SLUČAJNO GENERISANIH VRIJEDNOSTI] ILI B [BROJ DECIMALA]. ZATIM PRITISNITE ENTER: \\n\")\n",
    "if choice == 'A':\n",
    "    monte_carlo1.get_PI_generated_values()\n",
    "elif choice == 'B':\n",
    "    monte_carlo2.get_PI_decimal_values()\n",
    "else:\n",
    "    print(\"Neispravan unos!\")"
   ]
  },
  {
   "cell_type": "markdown",
   "metadata": {},
   "source": [
    "**Zaključak:**\n",
    "Na osnovu prethodna dva primjera poziva metode *get_PI_generated_values()* zaključujemo da povećavanjem broja slučajno generisanih vrijednosti povećavamo vjerovatnoću da izračunata vrijednost broja PI bude što bliža stvarnoj vrijednosti broja PI i to je očekivano ponašanje. Takođe, možemo primijetiti da je u drugom slučaju označeni jedinični kvadrat u potpunosti *crvene boje*, jer je \"preplavljen\" izgenerisanim vrijednostima usljed velikog broja vrijednosti (*100000*)."
   ]
  },
  {
   "cell_type": "markdown",
   "metadata": {},
   "source": [
    " ### MONTE CARLO SIMULACIJA - ZA BROJ DECIMALNIH VRIJEDNOSTI"
   ]
  },
  {
   "cell_type": "code",
   "execution_count": 7,
   "metadata": {},
   "outputs": [
    {
     "name": "stdout",
     "output_type": "stream",
     "text": [
      "UNESITE A [BROJ SLUČAJNO GENERISANIH VRIJEDNOSTI] ILI B [BROJ DECIMALA]. ZATIM PRITISNITE ENTER: \n",
      "B\n",
      "UNESITE BROJ DECIMALNIH VRIJEDNOSTI, A ZATIM PRITISNITE ENTER: \n",
      "1\n",
      "=====================================================================================\n",
      "          REZULTAT MONTE CARLO SIMULACIJE - ZA BROJ DECIMALNIH VRIJEDNOSTI           \n",
      "=====================================================================================\n",
      "Izračunata vrijednost broja PI = 3.14448\n",
      "Stvarna vrijednost broja PI = 3.141592653589793\n",
      "0.003\n"
     ]
    }
   ],
   "source": [
    "monte_carlo1 = Monte_Carlo() # instanciranje objekta 1 klase Monte Carlo\n",
    "monte_carlo2 = Monte_Carlo() # instanciranje objekta 2 klase Monte Carlo\n",
    "choice = input(\"UNESITE A [BROJ SLUČAJNO GENERISANIH VRIJEDNOSTI] ILI B [BROJ DECIMALA]. ZATIM PRITISNITE ENTER: \\n\")\n",
    "if choice == 'A':\n",
    "    monte_carlo1.get_PI_generated_values()\n",
    "elif choice == 'B':\n",
    "    monte_carlo2.get_PI_decimal_values()\n",
    "else:\n",
    "    print(\"Neispravan unos!\")"
   ]
  },
  {
   "cell_type": "code",
   "execution_count": 8,
   "metadata": {},
   "outputs": [
    {
     "name": "stdout",
     "output_type": "stream",
     "text": [
      "UNESITE A [BROJ SLUČAJNO GENERISANIH VRIJEDNOSTI] ILI B [BROJ DECIMALA]. ZATIM PRITISNITE ENTER: \n",
      "B\n",
      "UNESITE BROJ DECIMALNIH VRIJEDNOSTI, A ZATIM PRITISNITE ENTER: \n",
      "2\n",
      "=====================================================================================\n",
      "          REZULTAT MONTE CARLO SIMULACIJE - ZA BROJ DECIMALNIH VRIJEDNOSTI           \n",
      "=====================================================================================\n",
      "Izračunata vrijednost broja PI = 3.141312\n",
      "Stvarna vrijednost broja PI = 3.141592653589793\n",
      "0.00028\n"
     ]
    }
   ],
   "source": [
    "monte_carlo1 = Monte_Carlo() # instanciranje objekta 1 klase Monte Carlo\n",
    "monte_carlo2 = Monte_Carlo() # instanciranje objekta 2 klase Monte Carlo\n",
    "choice = input(\"UNESITE A [BROJ SLUČAJNO GENERISANIH VRIJEDNOSTI] ILI B [BROJ DECIMALA]. ZATIM PRITISNITE ENTER: \\n\")\n",
    "if choice == 'A':\n",
    "    monte_carlo1.get_PI_generated_values()\n",
    "elif choice == 'B':\n",
    "    monte_carlo2.get_PI_decimal_values()\n",
    "else:\n",
    "    print(\"Neispravan unos!\")"
   ]
  },
  {
   "cell_type": "code",
   "execution_count": 9,
   "metadata": {},
   "outputs": [
    {
     "name": "stdout",
     "output_type": "stream",
     "text": [
      "UNESITE A [BROJ SLUČAJNO GENERISANIH VRIJEDNOSTI] ILI B [BROJ DECIMALA]. ZATIM PRITISNITE ENTER: \n",
      "B\n",
      "UNESITE BROJ DECIMALNIH VRIJEDNOSTI, A ZATIM PRITISNITE ENTER: \n",
      "3\n",
      "=====================================================================================\n",
      "          REZULTAT MONTE CARLO SIMULACIJE - ZA BROJ DECIMALNIH VRIJEDNOSTI           \n",
      "=====================================================================================\n",
      "Izračunata vrijednost broja PI = 3.1417072\n",
      "Stvarna vrijednost broja PI = 3.141592653589793\n",
      "0.000115\n"
     ]
    }
   ],
   "source": [
    "monte_carlo1 = Monte_Carlo() # instanciranje objekta 1 klase Monte Carlo\n",
    "monte_carlo2 = Monte_Carlo() # instanciranje objekta 2 klase Monte Carlo\n",
    "choice = input(\"UNESITE A [BROJ SLUČAJNO GENERISANIH VRIJEDNOSTI] ILI B [BROJ DECIMALA]. ZATIM PRITISNITE ENTER: \\n\")\n",
    "if choice == 'A':\n",
    "    monte_carlo1.get_PI_generated_values()\n",
    "elif choice == 'B':\n",
    "    monte_carlo2.get_PI_decimal_values()\n",
    "else:\n",
    "    print(\"Neispravan unos!\")"
   ]
  },
  {
   "cell_type": "code",
   "execution_count": null,
   "metadata": {},
   "outputs": [],
   "source": [
    "# Funkcija koja računa PI na osnovu broja slučajno generisanih vrijednosti koji definiše korisnik\n",
    "def get_PI_generated_values():\n",
    "    num_of_generated_values = int(input(\"UNESITE BROJ SLUČAJNO GENERISANIH VRIJEDNOSTI, A ZATIM PRITISNITE ENTER: \\n\"))\n",
    "    x=[]\n",
    "    y=[]\n",
    "    inside_circle=0\n",
    "    for i in range(0,num_of_generated_values):\n",
    "        x_i=random.uniform(0.0, 1.00000)\n",
    "        y_i=random.uniform(0.0, 1.00000)\n",
    "        x.append(x_i)\n",
    "        y.append(y_i)\n",
    "        if (x_i**2+y_i**2)<=1:\n",
    "            inside_circle+=1\n",
    " \n",
    "    figure, axes = plt.subplots()\n",
    "    x_fill = np.arange(0.0, 1, 0.01)\n",
    "    axes.fill_between(x_fill, y1=0, y2=1) \n",
    "    plt.scatter(x, y, c='red')\n",
    "    axes.set_aspect(1)\n",
    "    axes.add_artist(plt.Circle((0,0),1, color = 'k', fill = False))\n",
    "    plt.title(\"Raspored generisanih vrijednosti\")\n",
    "    plt.xlim(left=-1)\n",
    "    plt.xlim(right=1)\n",
    "    plt.ylim(bottom=-1)\n",
    "    plt.ylim(top=1)\n",
    "    #plt.axhline(y=0, xmin=0.5, xmax=1, color='k', linestyle='-')\n",
    "    #plt.axvline(x=0, ymin=0.5, ymax=1, color='k', linestyle='-')\n",
    "    #x_fill = np.arange(0.0, 1, 0.01)\n",
    "    #axes.fill_between(x_fill, y1=0, y2=1) \n",
    "    #plt.axhline(y=0, color='r', linestyle='-')\n",
    "    PI = (inside_circle/num_of_generated_values)*4\n",
    "    outside_circle = num_of_generated_values - inside_circle\n",
    "    print(\"=====================================================================================\")\n",
    "    print(\"                              REZULTAT IZVRŠAVANJA                                   \")\n",
    "    print(\"=====================================================================================\")\n",
    "    print('Broj generisanih vrijednosti = '+str(num_of_generated_values))\n",
    "    print('Broj tačaka unutar kružnice = '+str(inside_circle))\n",
    "    print('Broj tačaka izvan kružnice = '+str(outside_circle))\n",
    "    print('PI = '+str(PI))\n",
    "    plt.show()"
   ]
  }
 ],
 "metadata": {
  "kernelspec": {
   "display_name": "Python 3",
   "language": "python",
   "name": "python3"
  },
  "language_info": {
   "codemirror_mode": {
    "name": "ipython",
    "version": 3
   },
   "file_extension": ".py",
   "mimetype": "text/x-python",
   "name": "python",
   "nbconvert_exporter": "python",
   "pygments_lexer": "ipython3",
   "version": "3.8.5"
  }
 },
 "nbformat": 4,
 "nbformat_minor": 4
}
